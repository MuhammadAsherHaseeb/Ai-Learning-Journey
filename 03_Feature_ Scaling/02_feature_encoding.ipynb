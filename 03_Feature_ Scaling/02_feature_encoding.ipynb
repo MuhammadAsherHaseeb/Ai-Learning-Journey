{
 "cells": [
  {
   "cell_type": "markdown",
   "metadata": {},
   "source": [
    "# Feature encoding"
   ]
  },
  {
   "cell_type": "markdown",
   "metadata": {},
   "source": [
    "#1. One Hot Encoding"
   ]
  },
  {
   "cell_type": "code",
   "execution_count": 1,
   "metadata": {},
   "outputs": [
    {
     "name": "stdout",
     "output_type": "stream",
     "text": [
      "   color\n",
      "0    red\n",
      "1  green\n",
      "2   blue\n",
      "3  green\n",
      "4    red\n",
      "5   blue\n",
      "   color_blue  color_green  color_red\n",
      "0       False        False       True\n",
      "1       False         True      False\n",
      "2        True        False      False\n",
      "3       False         True      False\n",
      "4       False        False       True\n",
      "5        True        False      False\n"
     ]
    }
   ],
   "source": [
    "import pandas as pd\n",
    "# sample data\n",
    "data = {'color': ['red', 'green', 'blue', 'green', 'red', 'blue']}\n",
    "df = pd.DataFrame(data)\n",
    "print(df)\n",
    "# one Hot Encoding\n",
    "encode_data = pd.get_dummies(df, columns=['color'])\n",
    "print(encode_data)"
   ]
  },
  {
   "cell_type": "markdown",
   "metadata": {},
   "source": [
    "#2. Label Encoding"
   ]
  },
  {
   "cell_type": "code",
   "execution_count": 3,
   "metadata": {},
   "outputs": [
    {
     "name": "stdout",
     "output_type": "stream",
     "text": [
      "  Animal\n",
      "0    Dog\n",
      "1    Cat\n",
      "2   Bird\n",
      "3    Dog\n",
      "4    Cat\n",
      "5   Bird\n",
      "  Animal  Animal_encoded\n",
      "0    Dog               2\n",
      "1    Cat               1\n",
      "2   Bird               0\n",
      "3    Dog               2\n",
      "4    Cat               1\n",
      "5   Bird               0\n"
     ]
    }
   ],
   "source": [
    "from sklearn.preprocessing import LabelEncoder\n",
    "# sample data\n",
    "data = {'Animal': ['Dog','Cat','Bird','Dog','Cat','Bird']}\n",
    "df = pd.DataFrame(data)\n",
    "print(df)\n",
    "# Label Encoding\n",
    "label_encode = LabelEncoder()\n",
    "df['Animal_encoded'] = label_encode.fit_transform(df['Animal'])\n",
    "print(df)"
   ]
  },
  {
   "cell_type": "markdown",
   "metadata": {},
   "source": [
    "#3. Odinal Encoding"
   ]
  },
  {
   "cell_type": "code",
   "execution_count": 9,
   "metadata": {},
   "outputs": [
    {
     "name": "stdout",
     "output_type": "stream",
     "text": [
      "     Size\n",
      "0   Small\n",
      "1  Medium\n",
      "2   Large\n",
      "3  Medium\n",
      "4   Small\n",
      "5   Large\n",
      "     Size  size_encoded\n",
      "0   Small           0.0\n",
      "1  Medium           1.0\n",
      "2   Large           2.0\n",
      "3  Medium           1.0\n",
      "4   Small           0.0\n",
      "5   Large           2.0\n"
     ]
    }
   ],
   "source": [
    "from sklearn.preprocessing import OrdinalEncoder\n",
    "# sample data\n",
    "data = {'Size': ['Small', 'Medium', 'Large', 'Medium', 'Small', 'Large']}\n",
    "df = pd.DataFrame(data)\n",
    "print(df)\n",
    "# Ordinal Encoding\n",
    "ordinal_encoder = OrdinalEncoder(categories=[['Small', 'Medium', 'Large']])\n",
    "df['size_encoded'] = ordinal_encoder.fit_transform(df[['Size']])\n",
    "print(df)"
   ]
  },
  {
   "cell_type": "code",
   "execution_count": null,
   "metadata": {},
   "outputs": [],
   "source": []
  }
 ],
 "metadata": {
  "kernelspec": {
   "display_name": "ml_env",
   "language": "python",
   "name": "python3"
  },
  "language_info": {
   "codemirror_mode": {
    "name": "ipython",
    "version": 3
   },
   "file_extension": ".py",
   "mimetype": "text/x-python",
   "name": "python",
   "nbconvert_exporter": "python",
   "pygments_lexer": "ipython3",
   "version": "3.13.0"
  }
 },
 "nbformat": 4,
 "nbformat_minor": 2
}

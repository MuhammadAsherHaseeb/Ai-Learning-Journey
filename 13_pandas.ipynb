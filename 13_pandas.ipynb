{
 "cells": [
  {
   "cell_type": "code",
   "execution_count": 12,
   "metadata": {},
   "outputs": [],
   "source": [
    "import pandas as pd\n",
    "import seaborn as sns\n",
    "# how to write a file\n",
    "ship = sns.load_dataset(\"titanic\") #  download titanic dataset in pandas dataframe \n",
    "ship.to_excel(\"titanic.xlsx\")  # save in excel\n",
    "# HOW TO READ A FILE\n",
    "df = pd.read_excel(\"titanic.xlsx\")"
   ]
  },
  {
   "cell_type": "code",
   "execution_count": 11,
   "metadata": {},
   "outputs": [],
   "source": [
    "# # Pandas Tips\n",
    "# df.info() # gives info about dataframe\n",
    "# df.head() # gives first 5 rows\n",
    "# df.tail() # gives last 5 rows\n",
    "# df.describe() # gives summary stats of data"
   ]
  }
 ],
 "metadata": {
  "kernelspec": {
   "display_name": "ml_env",
   "language": "python",
   "name": "python3"
  },
  "language_info": {
   "codemirror_mode": {
    "name": "ipython",
    "version": 3
   },
   "file_extension": ".py",
   "mimetype": "text/x-python",
   "name": "python",
   "nbconvert_exporter": "python",
   "pygments_lexer": "ipython3",
   "version": "3.13.0"
  }
 },
 "nbformat": 4,
 "nbformat_minor": 2
}

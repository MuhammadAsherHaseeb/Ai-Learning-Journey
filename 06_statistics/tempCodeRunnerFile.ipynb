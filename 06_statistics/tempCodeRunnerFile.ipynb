# lets run the two sample test on ages of male and female from titanic

# first seperate ages of both genders in two different samples
age_male   = df[df['sex'] == 'male']['age']
age_female = df[df['sex'] == 'female']['age'] 
# create two samples
statistics, p =stats.ttest_ind(age_male, age_female)
# print results based on p value and if else condition
if p > 0.05:
    print('Fail to reject null hypothesis, becaues p value:{p} , there is no significant difference between the ages of male and female passengers in titanic')
else:
    print('Reject null hypothesis: there is a significant difference between the ages of male and female passengers in titanic')
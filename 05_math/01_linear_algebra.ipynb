{
 "cells": [
  {
   "cell_type": "markdown",
   "metadata": {},
   "source": [
    "# Linear Algebra in Python"
   ]
  },
  {
   "cell_type": "code",
   "execution_count": 2,
   "metadata": {},
   "outputs": [],
   "source": [
    "# Import Libraries\n",
    "import numpy as np"
   ]
  },
  {
   "cell_type": "markdown",
   "metadata": {},
   "source": [
    "2x+3y = 8\n",
    "\n",
    "5x+4y = 20"
   ]
  },
  {
   "cell_type": "code",
   "execution_count": 6,
   "metadata": {},
   "outputs": [
    {
     "data": {
      "text/plain": [
       "array([[2, 3],\n",
       "       [5, 4]])"
      ]
     },
     "execution_count": 6,
     "metadata": {},
     "output_type": "execute_result"
    }
   ],
   "source": [
    "# Co-efficent matrix A\n",
    "A = np.array([[2,3],[5,4]]) # 2X2 MAtrix\n",
    "A"
   ]
  },
  {
   "cell_type": "code",
   "execution_count": 7,
   "metadata": {},
   "outputs": [
    {
     "data": {
      "text/plain": [
       "array([ 8, 20])"
      ]
     },
     "execution_count": 7,
     "metadata": {},
     "output_type": "execute_result"
    }
   ],
   "source": [
    "# Constant matrix B\n",
    "B = np.array([8,20])\n",
    "B"
   ]
  },
  {
   "cell_type": "code",
   "execution_count": 9,
   "metadata": {},
   "outputs": [
    {
     "data": {
      "text/plain": [
       "array([4., 0.])"
      ]
     },
     "execution_count": 9,
     "metadata": {},
     "output_type": "execute_result"
    }
   ],
   "source": [
    "# Solve for X\n",
    "x= np.linalg.solve(A,B) # solve for x\n",
    "x"
   ]
  },
  {
   "cell_type": "markdown",
   "metadata": {},
   "source": [
    "# Solving Complex Equations"
   ]
  },
  {
   "cell_type": "markdown",
   "metadata": {},
   "source": [
    "\\[\n",
    "\\begin{align*}\n",
    "(1+2i)x + (2-i)y &=4+i \\\\\n",
    "(3-i)x + 4y &= 3+4i\n",
    "\\end{align*}\n",
    "\\]"
   ]
  },
  {
   "cell_type": "code",
   "execution_count": 12,
   "metadata": {},
   "outputs": [
    {
     "data": {
      "text/plain": [
       "array([-0.11176471-0.45294118j,  0.94705882+1.31176471j])"
      ]
     },
     "execution_count": 12,
     "metadata": {},
     "output_type": "execute_result"
    }
   ],
   "source": [
    "# Co-efficents matrix A with complex numbers\n",
    "A_complex = np.array([[1+2j, 2-1j],[3-1j,4]])\n",
    "# Constant matrix B with complex numbers \n",
    "B_complex = np.array([4+1j, 3+4j])\n",
    "# Solving for x in the complex case\n",
    "x_complex = np.linalg.solve(A_complex,B_complex)\n",
    "x_complex"
   ]
  },
  {
   "cell_type": "markdown",
   "metadata": {},
   "source": [
    "---\n",
    "# SVD in Python"
   ]
  },
  {
   "cell_type": "code",
   "execution_count": 14,
   "metadata": {},
   "outputs": [
    {
     "data": {
      "text/plain": [
       "array([[0.50407686, 0.15469062, 0.42614028],\n",
       "       [0.40573905, 0.10634429, 0.83198429],\n",
       "       [0.72078272, 0.19524318, 0.68794589],\n",
       "       [0.13430372, 0.34993175, 0.43332102]])"
      ]
     },
     "execution_count": 14,
     "metadata": {},
     "output_type": "execute_result"
    }
   ],
   "source": [
    "# generate amatrix of 4x3 dataset\n",
    "A = np.random.rand(4,3)\n",
    "A\n"
   ]
  },
  {
   "cell_type": "code",
   "execution_count": 15,
   "metadata": {},
   "outputs": [
    {
     "data": {
      "text/plain": [
       "SVDResult(U=array([[-0.41836398,  0.35499528,  0.29740691, -0.7813444 ],\n",
       "       [-0.57239492, -0.33547229, -0.73742063, -0.12662233],\n",
       "       [-0.63282236,  0.43950845,  0.18659476,  0.60954949],\n",
       "       [-0.31124185, -0.7538362 ,  0.57701156,  0.04378519]]), S=array([1.5854766 , 0.33926373, 0.24101336]), Vh=array([[-0.59354956, -0.22583466, -0.77246205],\n",
       "       [ 0.76158388, -0.46789947, -0.44839724],\n",
       "       [ 0.26017094,  0.85444063, -0.44971356]]))"
      ]
     },
     "execution_count": 15,
     "metadata": {},
     "output_type": "execute_result"
    }
   ],
   "source": [
    "# lets Apply svd here\n",
    "np.linalg.svd(A)"
   ]
  },
  {
   "cell_type": "code",
   "execution_count": 17,
   "metadata": {},
   "outputs": [
    {
     "name": "stdout",
     "output_type": "stream",
     "text": [
      "U Matrix [[-0.41836398  0.35499528  0.29740691 -0.7813444 ]\n",
      " [-0.57239492 -0.33547229 -0.73742063 -0.12662233]\n",
      " [-0.63282236  0.43950845  0.18659476  0.60954949]\n",
      " [-0.31124185 -0.7538362   0.57701156  0.04378519]]\n",
      "-------------------------\n",
      "Sigma Matrix [1.5854766  0.33926373 0.24101336]\n",
      "-------------------------\n",
      "VT Matrix [[-0.59354956 -0.22583466 -0.77246205]\n",
      " [ 0.76158388 -0.46789947 -0.44839724]\n",
      " [ 0.26017094  0.85444063 -0.44971356]]\n"
     ]
    }
   ],
   "source": [
    "# lets Apply svd here\n",
    "U, Sigma, VT = np.linalg.svd(A) # naming output columns\n",
    "# printing each matrices\n",
    "print(\"U Matrix\",U)\n",
    "print(\"-------------------------\")\n",
    "print(\"Sigma Matrix\",Sigma)\n",
    "print(\"-------------------------\")\n",
    "print(\"VT Matrix\",VT)"
   ]
  },
  {
   "cell_type": "code",
   "execution_count": 18,
   "metadata": {},
   "outputs": [
    {
     "data": {
      "text/plain": [
       "(4, 4)"
      ]
     },
     "execution_count": 18,
     "metadata": {},
     "output_type": "execute_result"
    }
   ],
   "source": [
    "U.shape"
   ]
  },
  {
   "cell_type": "code",
   "execution_count": 19,
   "metadata": {},
   "outputs": [
    {
     "data": {
      "text/plain": [
       "(3,)"
      ]
     },
     "execution_count": 19,
     "metadata": {},
     "output_type": "execute_result"
    }
   ],
   "source": [
    "Sigma.shape"
   ]
  },
  {
   "cell_type": "code",
   "execution_count": 20,
   "metadata": {},
   "outputs": [
    {
     "data": {
      "text/plain": [
       "(3, 3)"
      ]
     },
     "execution_count": 20,
     "metadata": {},
     "output_type": "execute_result"
    }
   ],
   "source": [
    "VT.shape"
   ]
  },
  {
   "cell_type": "code",
   "execution_count": null,
   "metadata": {},
   "outputs": [],
   "source": []
  },
  {
   "cell_type": "markdown",
   "metadata": {},
   "source": [
    "---\n",
    "# Vectors in Python"
   ]
  },
  {
   "cell_type": "code",
   "execution_count": 22,
   "metadata": {},
   "outputs": [],
   "source": [
    "import numpy as np\n",
    "import matplotlib.pyplot as plt"
   ]
  },
  {
   "cell_type": "code",
   "execution_count": 23,
   "metadata": {},
   "outputs": [
    {
     "data": {
      "text/plain": [
       "array([2, 3])"
      ]
     },
     "execution_count": 23,
     "metadata": {},
     "output_type": "execute_result"
    }
   ],
   "source": [
    "# create a vector \n",
    "v= np.array([2,3])\n",
    "v"
   ]
  },
  {
   "cell_type": "code",
   "execution_count": 26,
   "metadata": {},
   "outputs": [
    {
     "data": {
      "image/png": "[encoded data removed]",
      "text/plain": [
       "<Figure size 640x480 with 1 Axes>"
      ]
     },
     "metadata": {},
     "output_type": "display_data"
    }
   ],
   "source": [
    "# plot the vector v\n",
    "plt.figure()\n",
    "plt.quiver(0, 0, v[0], v[1], angles='xy', scale_units='xy', scale=1, color='r')\n",
    "plt.xlim(0, 5)\n",
    "plt.ylim(0, 5)\n",
    "plt.grid()\n",
    "plt.title('2D Vector')\n",
    "plt.xlabel('X axis')\n",
    "plt.ylabel('Y axis')\n",
    "plt.gca().set_aspect('equal', adjustable='box') # adjust box like its square\n",
    "plt.show()"
   ]
  },
  {
   "cell_type": "markdown",
   "metadata": {},
   "source": [
    "---\n",
    "# Linear Transformation"
   ]
  },
  {
   "cell_type": "markdown",
   "metadata": {},
   "source": [
    "\\[\n",
    "\\begin{bmatrix}\n",
    "\\cos(45^\\circ) & -\\sin(45^\\circ) \\\\\n",
    "\\sin(45^\\circ) & \\cos(45^\\circ)\n",
    "\\end{bmatrix}\n",
    "\\]\n",
    "\n",
    "This matrix correctly represents a 45-degree rotation transformation in 2D space."
   ]
  },
  {
   "cell_type": "code",
   "execution_count": 31,
   "metadata": {},
   "outputs": [
    {
     "data": {
      "image/png": "[encoded data removed]",
      "text/plain": [
       "<Figure size 640x480 with 1 Axes>"
      ]
     },
     "metadata": {},
     "output_type": "display_data"
    }
   ],
   "source": [
    "# Define the rotation matrix for 45 degrees\n",
    "theta = np.radians(45)\n",
    "rotation_matrix = np.array([[np.cos(theta), -np.sin(theta)],\n",
    "                            [np.sin(theta), np.cos(theta)]\n",
    "])\n",
    "\n",
    "# Define your vector\n",
    "#v = np.array([2, 3])\n",
    "# Apply the linear transformation (rotation)\n",
    "v_transformed = np.dot(rotation_matrix, v) # dot product of v and rotation_matrix\n",
    "\n",
    "# Plot the original vector\n",
    "plt.figure()\n",
    "plt.quiver(0, 0, v[0], v[1], angles='xy', scale_units='xy', scale=1, color='r', label='Original Vector')\n",
    "plt.quiver(0, 0, v_transformed[0], v_transformed[1], angles='xy', scale_units='xy', scale=1, color='b', label='Transformed Vector')\n",
    "plt.xlim(0, 5)\n",
    "plt.ylim(0, 5)\n",
    "plt.grid()\n",
    "plt.title('2D Vector and its Linear Transformation')\n",
    "plt.xlabel('X axis')\n",
    "plt.ylabel('Y axis')\n",
    "plt.gca().set_aspect('equal', adjustable='box')  # Adjust box to look square\n",
    "plt.legend()\n",
    "plt.show()"
   ]
  },
  {
   "cell_type": "markdown",
   "metadata": {},
   "source": [
    "---\n",
    "# Shear Transforamtion"
   ]
  },
  {
   "cell_type": "code",
   "execution_count": 34,
   "metadata": {},
   "outputs": [
    {
     "data": {
      "image/png": "[encoded data removed]",
      "text/plain": [
       "<Figure size 640x480 with 1 Axes>"
      ]
     },
     "metadata": {},
     "output_type": "display_data"
    }
   ],
   "source": [
    "# Define the shear matrix for shearing along the x-axis\n",
    "k = 1.5  # Shear factor\n",
    "shear_matrix = np.array([[1, k],[0, 1]])\n",
    "\n",
    "# Define your vector\n",
    "# v = np.array([2, 3])\n",
    "\n",
    "# Apply the shear transformation\n",
    "v_sheared = np.dot(shear_matrix, v)\n",
    "\n",
    "# Plot the original and transformed vectors\n",
    "plt.figure()\n",
    "plt.quiver(0, 0, v[0], v[1], angles='xy', scale_units='xy', scale=1, color='r', label='Original Vector')\n",
    "plt.quiver(0, 0, v_transformed[0], v_transformed[1], angles='xy', scale_units='xy', scale=1, color='b', label='Sheared Vector')\n",
    "plt.xlim(0, 5)\n",
    "plt.ylim(0, 5)\n",
    "plt.grid()\n",
    "plt.title('2D Vector and its Shear Transformation')\n",
    "plt.xlabel('X axis')\n",
    "plt.ylabel('Y axis')\n",
    "plt.gca().set_aspect('equal', adjustable='box')  # Adjust box to look square\n",
    "plt.legend()\n",
    "plt.show()"
   ]
  },
  {
   "cell_type": "code",
   "execution_count": null,
   "metadata": {},
   "outputs": [],
   "source": []
  }
 ],
 "metadata": {
  "kernelspec": {
   "display_name": "ml_env",
   "language": "python",
   "name": "python3"
  },
  "language_info": {
   "codemirror_mode": {
    "name": "ipython",
    "version": 3
   },
   "file_extension": ".py",
   "mimetype": "text/x-python",
   "name": "python",
   "nbconvert_exporter": "python",
   "pygments_lexer": "ipython3",
   "version": "3.13.0"
  }
 },
 "nbformat": 4,
 "nbformat_minor": 2
}

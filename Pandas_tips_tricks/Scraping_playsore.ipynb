{
 "cells": [
  {
   "cell_type": "code",
   "execution_count": 52,
   "metadata": {},
   "outputs": [
    {
     "name": "stderr",
     "output_type": "stream",
     "text": [
      "2024-12-04 16:51:02,687 [INFO] Base - Initialised: AppStore('us', 'password-manager-myvault', 1138075747)\n",
      "2024-12-04 16:51:02,688 [INFO] Base - Ready to fetch reviews from: https://apps.apple.com/us/app/password-manager-myvault/id1138075747\n",
      "2024-12-04 16:51:04,309 [INFO] Base - [id:1138075747] Fetched 4 reviews (4 fetched in total)\n",
      "C:\\Users\\Raja Asher\\AppData\\Local\\Temp\\ipykernel_14760\\743104478.py:41: FutureWarning: The behavior of DataFrame concatenation with empty or all-NA entries is deprecated. In a future version, this will no longer exclude empty or all-NA columns when determining the result dtypes. To retain the old behavior, exclude the relevant entries before the concat operation.\n",
      "  result = pd.concat([g_df2,a_df2])\n"
     ]
    },
    {
     "data": {
      "text/html": [
       "<div>\n",
       "<style scoped>\n",
       "    .dataframe tbody tr th:only-of-type {\n",
       "        vertical-align: middle;\n",
       "    }\n",
       "\n",
       "    .dataframe tbody tr th {\n",
       "        vertical-align: top;\n",
       "    }\n",
       "\n",
       "    .dataframe thead th {\n",
       "        text-align: right;\n",
       "    }\n",
       "</style>\n",
       "<table border=\"1\" class=\"dataframe\">\n",
       "  <thead>\n",
       "    <tr style=\"text-align: right;\">\n",
       "      <th></th>\n",
       "      <th>source</th>\n",
       "      <th>review_id</th>\n",
       "      <th>user_name</th>\n",
       "      <th>review_title</th>\n",
       "      <th>review_description</th>\n",
       "      <th>rating</th>\n",
       "      <th>thumbs_up</th>\n",
       "      <th>review_date</th>\n",
       "      <th>developer_response</th>\n",
       "      <th>developer_response_date</th>\n",
       "      <th>appVersion</th>\n",
       "      <th>laguage_code</th>\n",
       "      <th>country_code</th>\n",
       "    </tr>\n",
       "  </thead>\n",
       "  <tbody>\n",
       "    <tr>\n",
       "      <th>0</th>\n",
       "      <td>Google Play</td>\n",
       "      <td>2a3756d6-43dc-409b-aad9-9400886fcba7</td>\n",
       "      <td>Nerys Powell</td>\n",
       "      <td>None</td>\n",
       "      <td>Nice to have my passwords all in one place. No...</td>\n",
       "      <td>5</td>\n",
       "      <td>7</td>\n",
       "      <td>2024-11-25 00:39:06</td>\n",
       "      <td>None</td>\n",
       "      <td>NaT</td>\n",
       "      <td>24.09.16000</td>\n",
       "      <td>en</td>\n",
       "      <td>us</td>\n",
       "    </tr>\n",
       "    <tr>\n",
       "      <th>1</th>\n",
       "      <td>Google Play</td>\n",
       "      <td>feac3b38-589b-4f0c-8931-af8e928cf0b0</td>\n",
       "      <td>Marion Birchley</td>\n",
       "      <td>None</td>\n",
       "      <td>Easy to use</td>\n",
       "      <td>5</td>\n",
       "      <td>0</td>\n",
       "      <td>2024-09-17 12:17:59</td>\n",
       "      <td>Thank you for your support</td>\n",
       "      <td>2024-09-18 11:20:41</td>\n",
       "      <td>23.12.04000</td>\n",
       "      <td>en</td>\n",
       "      <td>us</td>\n",
       "    </tr>\n",
       "    <tr>\n",
       "      <th>2</th>\n",
       "      <td>Google Play</td>\n",
       "      <td>81942ead-9d65-4b1a-8aa2-6e21ad5cf5e7</td>\n",
       "      <td>Vernalee Fortin</td>\n",
       "      <td>None</td>\n",
       "      <td>Still loving it!, the best!</td>\n",
       "      <td>5</td>\n",
       "      <td>0</td>\n",
       "      <td>2024-09-03 00:23:40</td>\n",
       "      <td>None</td>\n",
       "      <td>NaT</td>\n",
       "      <td>23.12.04000</td>\n",
       "      <td>en</td>\n",
       "      <td>us</td>\n",
       "    </tr>\n",
       "    <tr>\n",
       "      <th>3</th>\n",
       "      <td>Google Play</td>\n",
       "      <td>c08cf1e7-45e4-43a3-b86f-51f7809b80a3</td>\n",
       "      <td>Toki Doki</td>\n",
       "      <td>None</td>\n",
       "      <td>Convenient one stop app for all your passwords...</td>\n",
       "      <td>5</td>\n",
       "      <td>0</td>\n",
       "      <td>2024-08-19 03:32:22</td>\n",
       "      <td>None</td>\n",
       "      <td>NaT</td>\n",
       "      <td>23.12.04000</td>\n",
       "      <td>en</td>\n",
       "      <td>us</td>\n",
       "    </tr>\n",
       "    <tr>\n",
       "      <th>4</th>\n",
       "      <td>Google Play</td>\n",
       "      <td>c8937763-e1b4-43b1-9e48-cde58be80111</td>\n",
       "      <td>CJ Cross</td>\n",
       "      <td>None</td>\n",
       "      <td>Tried several password managers until I came a...</td>\n",
       "      <td>5</td>\n",
       "      <td>0</td>\n",
       "      <td>2024-07-30 08:07:47</td>\n",
       "      <td>None</td>\n",
       "      <td>NaT</td>\n",
       "      <td>23.12.04000</td>\n",
       "      <td>en</td>\n",
       "      <td>us</td>\n",
       "    </tr>\n",
       "    <tr>\n",
       "      <th>...</th>\n",
       "      <td>...</td>\n",
       "      <td>...</td>\n",
       "      <td>...</td>\n",
       "      <td>...</td>\n",
       "      <td>...</td>\n",
       "      <td>...</td>\n",
       "      <td>...</td>\n",
       "      <td>...</td>\n",
       "      <td>...</td>\n",
       "      <td>...</td>\n",
       "      <td>...</td>\n",
       "      <td>...</td>\n",
       "      <td>...</td>\n",
       "    </tr>\n",
       "    <tr>\n",
       "      <th>161</th>\n",
       "      <td>Google Play</td>\n",
       "      <td>b454b56c-6171-49bb-a04b-b878095b83e2</td>\n",
       "      <td>A Google user</td>\n",
       "      <td>None</td>\n",
       "      <td>Awesome</td>\n",
       "      <td>5</td>\n",
       "      <td>1</td>\n",
       "      <td>2016-08-31 06:53:05</td>\n",
       "      <td>None</td>\n",
       "      <td>NaT</td>\n",
       "      <td>None</td>\n",
       "      <td>en</td>\n",
       "      <td>us</td>\n",
       "    </tr>\n",
       "    <tr>\n",
       "      <th>0</th>\n",
       "      <td>App Store</td>\n",
       "      <td>3ce7c837-8fce-4bf6-85d5-c8a20a71ae35</td>\n",
       "      <td>Winky2005</td>\n",
       "      <td>Attractive App</td>\n",
       "      <td>Am just beginning to use this after having Tru...</td>\n",
       "      <td>5</td>\n",
       "      <td>None</td>\n",
       "      <td>2016-12-21 02:06:24</td>\n",
       "      <td>None</td>\n",
       "      <td>NaT</td>\n",
       "      <td>NaN</td>\n",
       "      <td>en</td>\n",
       "      <td>us</td>\n",
       "    </tr>\n",
       "    <tr>\n",
       "      <th>1</th>\n",
       "      <td>App Store</td>\n",
       "      <td>1390f3b1-afec-459b-bcd9-80872fc27402</td>\n",
       "      <td>Jimjamscotty</td>\n",
       "      <td>Great!!!</td>\n",
       "      <td>It’s very simple to understand and use. I just...</td>\n",
       "      <td>5</td>\n",
       "      <td>None</td>\n",
       "      <td>2020-09-18 01:35:10</td>\n",
       "      <td>None</td>\n",
       "      <td>NaT</td>\n",
       "      <td>NaN</td>\n",
       "      <td>en</td>\n",
       "      <td>us</td>\n",
       "    </tr>\n",
       "    <tr>\n",
       "      <th>2</th>\n",
       "      <td>App Store</td>\n",
       "      <td>41c7f680-d560-4597-84f6-feb827d208e2</td>\n",
       "      <td>Opihi18</td>\n",
       "      <td>Basic functions okay</td>\n",
       "      <td>Backup and restore does not seem to work at al...</td>\n",
       "      <td>2</td>\n",
       "      <td>None</td>\n",
       "      <td>2021-10-31 02:09:44</td>\n",
       "      <td>{'id': 42630524, 'body': 'A new version is ava...</td>\n",
       "      <td>NaT</td>\n",
       "      <td>NaN</td>\n",
       "      <td>en</td>\n",
       "      <td>us</td>\n",
       "    </tr>\n",
       "    <tr>\n",
       "      <th>3</th>\n",
       "      <td>App Store</td>\n",
       "      <td>a3cb3444-22fe-494a-a311-2baba2f22615</td>\n",
       "      <td>sevenbloodyrabbits</td>\n",
       "      <td>Gateway to service fraud</td>\n",
       "      <td>I clicked the yellow bar which asked me to set...</td>\n",
       "      <td>1</td>\n",
       "      <td>None</td>\n",
       "      <td>2023-02-06 21:47:05</td>\n",
       "      <td>None</td>\n",
       "      <td>NaT</td>\n",
       "      <td>NaN</td>\n",
       "      <td>en</td>\n",
       "      <td>us</td>\n",
       "    </tr>\n",
       "  </tbody>\n",
       "</table>\n",
       "<p>166 rows × 13 columns</p>\n",
       "</div>"
      ],
      "text/plain": [
       "          source                             review_id           user_name  \\\n",
       "0    Google Play  2a3756d6-43dc-409b-aad9-9400886fcba7        Nerys Powell   \n",
       "1    Google Play  feac3b38-589b-4f0c-8931-af8e928cf0b0     Marion Birchley   \n",
       "2    Google Play  81942ead-9d65-4b1a-8aa2-6e21ad5cf5e7     Vernalee Fortin   \n",
       "3    Google Play  c08cf1e7-45e4-43a3-b86f-51f7809b80a3           Toki Doki   \n",
       "4    Google Play  c8937763-e1b4-43b1-9e48-cde58be80111            CJ Cross   \n",
       "..           ...                                   ...                 ...   \n",
       "161  Google Play  b454b56c-6171-49bb-a04b-b878095b83e2       A Google user   \n",
       "0      App Store  3ce7c837-8fce-4bf6-85d5-c8a20a71ae35           Winky2005   \n",
       "1      App Store  1390f3b1-afec-459b-bcd9-80872fc27402        Jimjamscotty   \n",
       "2      App Store  41c7f680-d560-4597-84f6-feb827d208e2             Opihi18   \n",
       "3      App Store  a3cb3444-22fe-494a-a311-2baba2f22615  sevenbloodyrabbits   \n",
       "\n",
       "                 review_title  \\\n",
       "0                        None   \n",
       "1                        None   \n",
       "2                        None   \n",
       "3                        None   \n",
       "4                        None   \n",
       "..                        ...   \n",
       "161                      None   \n",
       "0              Attractive App   \n",
       "1                    Great!!!   \n",
       "2        Basic functions okay   \n",
       "3    Gateway to service fraud   \n",
       "\n",
       "                                    review_description  rating thumbs_up  \\\n",
       "0    Nice to have my passwords all in one place. No...       5         7   \n",
       "1                                          Easy to use       5         0   \n",
       "2                          Still loving it!, the best!       5         0   \n",
       "3    Convenient one stop app for all your passwords...       5         0   \n",
       "4    Tried several password managers until I came a...       5         0   \n",
       "..                                                 ...     ...       ...   \n",
       "161                                            Awesome       5         1   \n",
       "0    Am just beginning to use this after having Tru...       5      None   \n",
       "1    It’s very simple to understand and use. I just...       5      None   \n",
       "2    Backup and restore does not seem to work at al...       2      None   \n",
       "3    I clicked the yellow bar which asked me to set...       1      None   \n",
       "\n",
       "            review_date                                 developer_response  \\\n",
       "0   2024-11-25 00:39:06                                               None   \n",
       "1   2024-09-17 12:17:59                         Thank you for your support   \n",
       "2   2024-09-03 00:23:40                                               None   \n",
       "3   2024-08-19 03:32:22                                               None   \n",
       "4   2024-07-30 08:07:47                                               None   \n",
       "..                  ...                                                ...   \n",
       "161 2016-08-31 06:53:05                                               None   \n",
       "0   2016-12-21 02:06:24                                               None   \n",
       "1   2020-09-18 01:35:10                                               None   \n",
       "2   2021-10-31 02:09:44  {'id': 42630524, 'body': 'A new version is ava...   \n",
       "3   2023-02-06 21:47:05                                               None   \n",
       "\n",
       "    developer_response_date   appVersion laguage_code country_code  \n",
       "0                       NaT  24.09.16000           en           us  \n",
       "1       2024-09-18 11:20:41  23.12.04000           en           us  \n",
       "2                       NaT  23.12.04000           en           us  \n",
       "3                       NaT  23.12.04000           en           us  \n",
       "4                       NaT  23.12.04000           en           us  \n",
       "..                      ...          ...          ...          ...  \n",
       "161                     NaT         None           en           us  \n",
       "0                       NaT          NaN           en           us  \n",
       "1                       NaT          NaN           en           us  \n",
       "2                       NaT          NaN           en           us  \n",
       "3                       NaT          NaN           en           us  \n",
       "\n",
       "[166 rows x 13 columns]"
      ]
     },
     "execution_count": 52,
     "metadata": {},
     "output_type": "execute_result"
    }
   ],
   "source": [
    "from google_play_scraper import app, Sort, reviews_all\n",
    "from app_store_scraper import AppStore\n",
    "import pandas as pd\n",
    "import numpy as np\n",
    "import json, os, uuid\n",
    "\n",
    "g_reviews = reviews_all(\n",
    "        \"com.apphup.passwordmanager\",\n",
    "        sleep_milliseconds=0, # defaults to 0\n",
    "        lang='en', # defaults to 'en'\n",
    "        country='us', # defaults to 'us'\n",
    "        sort=Sort.NEWEST, # defaults to Sort.MOST_RELEVANT\n",
    "    )\n",
    "a_reviews = AppStore('us', 'password-manager-myvault', '1138075747')\n",
    "a_reviews.review()\n",
    "\n",
    "g_df = pd.DataFrame(np.array(g_reviews),columns=['review'])\n",
    "g_df2 = g_df.join(pd.DataFrame(g_df.pop('review').tolist()))\n",
    "\n",
    "g_df2.drop(columns={'userImage', 'reviewCreatedVersion'},inplace = True)\n",
    "g_df2.rename(columns= {'score': 'rating','userName': 'user_name', 'reviewId': 'review_id', 'content': 'review_description', 'at': 'review_date', 'replyContent': 'developer_response', 'repliedAt': 'developer_response_date', 'thumbsUpCount': 'thumbs_up'},inplace = True)\n",
    "g_df2.insert(loc=0, column='source', value='Google Play')\n",
    "g_df2.insert(loc=3, column='review_title', value=None)\n",
    "g_df2['laguage_code'] = 'en'\n",
    "g_df2['country_code'] = 'us'\n",
    "\n",
    "a_df = pd.DataFrame(np.array(a_reviews.reviews),columns=['review'])\n",
    "a_df2 = a_df.join(pd.DataFrame(a_df.pop('review').tolist()))\n",
    "\n",
    "a_df2.drop(columns={'isEdited'},inplace = True)\n",
    "a_df2.insert(loc=0, column='source', value='App Store')\n",
    "a_df2['developer_response_date'] = None\n",
    "a_df2['thumbs_up'] = None\n",
    "a_df2['laguage_code'] = 'en'\n",
    "a_df2['country_code'] = 'us'\n",
    "a_df2.insert(loc=1, column='review_id', value=[uuid.uuid4() for _ in range(len(a_df2.index))])\n",
    "a_df2.rename(columns= {'review': 'review_description','userName': 'user_name', 'date': 'review_date','title': 'review_title', 'developerResponse': 'developer_response'},inplace = True)\n",
    "a_df2 = a_df2.where(pd.notnull(a_df2), None)\n",
    "\n",
    "\n",
    "result = pd.concat([g_df2,a_df2])\n",
    "result"
   ]
  },
  {
   "cell_type": "code",
   "execution_count": 53,
   "metadata": {},
   "outputs": [],
   "source": [
    "result.to_csv('googleplaystore 2024.csv', index=False)"
   ]
  },
  {
   "cell_type": "markdown",
   "metadata": {},
   "source": [
    "Code Explination"
   ]
  },
  {
   "cell_type": "code",
   "execution_count": 54,
   "metadata": {},
   "outputs": [],
   "source": [
    "from google_play_scraper import app, Sort, reviews_all\n"
   ]
  },
  {
   "cell_type": "markdown",
   "metadata": {},
   "source": [
    "- Import necessary functions and classes from the google_play_scraper module to fetch data from the Google Play Store."
   ]
  },
  {
   "cell_type": "code",
   "execution_count": 55,
   "metadata": {},
   "outputs": [],
   "source": [
    "from app_store_scraper import AppStore\n"
   ]
  },
  {
   "cell_type": "markdown",
   "metadata": {},
   "source": [
    "- Import the AppStore class from the app_store_scraper module to fetch data from the Apple App Store."
   ]
  },
  {
   "cell_type": "code",
   "execution_count": 56,
   "metadata": {},
   "outputs": [],
   "source": [
    "import pandas as pd\n",
    "import numpy as np\n",
    "import json, os, uuid"
   ]
  },
  {
   "cell_type": "markdown",
   "metadata": {},
   "source": [
    "- Import libraries: pandas (for data manipulation), numpy (for numerical operations), json, os, and uuid (for unique identifier generation)."
   ]
  },
  {
   "cell_type": "code",
   "execution_count": 57,
   "metadata": {},
   "outputs": [],
   "source": [
    "g_reviews = reviews_all(\n",
    "        \"com.apphup.passwordmanager\", \n",
    "        sleep_milliseconds=0, # defaults to 0\n",
    "        lang='en', # defaults to 'en'\n",
    "        country='us', # defaults to 'us'\n",
    "        sort=Sort.NEWEST, # defaults to Sort.MOST_RELEVANT\n",
    "    )"
   ]
  },
  {
   "cell_type": "markdown",
   "metadata": {},
   "source": [
    "- Fetch all reviews for the Google Play Store app with the package name \"com.apphup.passwordmanager\".\n",
    "- The sleep_milliseconds=0 means no delay between requests.\n",
    "- The language is set to 'en', and the country is set to 'us'.\n",
    "- Reviews are sorted by the newest (Sort.NEWEST)."
   ]
  },
  {
   "cell_type": "markdown",
   "metadata": {},
   "source": [
    "- play store link \"https://www.youtube.com/redirect?event=video_description&redir_token=QUFFLUhqbmtRV1pCVm5JWERUMVg4NVpQRGdJX0t5cVZKUXxBQ3Jtc0trNkhXeUZGOGxuamw1R0R4M2RvUWg4c3RGZ3RBN2dOeHRiZUh0dWJRV3VfdFZiQlRhWkptSXR5NTVBYk85SEFCOW5ab3BybnFJZjhaR1FvekhObktSRFVjTzM4Mzc3WEE4R25kMVZrVklEZEtWUmlXVQ&q=https%3A%2F%2Fplay.google.com%2Fstore%2Fapps%2Fdetails%3Fid%3Dcom.apphup.passwordmanager%26hl%3Den%26gl%3DUS&v=GVwjR6lkS6Q\"\n",
    "- link of the app is like this \"https://play.google.com/store/apps/details?id=com.apphup.passwordmanager&hl=en&gl=US\"\n",
    "- and copy just beyween id= & before &\n",
    "- which in this case com.apphup.passwordmanager\n",
    "- paste it in the 2nd line like me"
   ]
  },
  {
   "cell_type": "markdown",
   "metadata": {},
   "source": [
    "# For app store"
   ]
  },
  {
   "cell_type": "markdown",
   "metadata": {},
   "source": [
    "- App Store link \"https://apps.apple.com/ro/app/password-manager-managerpass/id1138075747\"\n",
    "- just copy package name or app name\n",
    "- like the link \"https://apps.apple.com/ro/app/password-manager-managerpass/id1138075747\"\n",
    "- Just copy between app and /id\n",
    "- which is like this\n",
    "- password-manager-managerpass\n",
    "-  now its last id  which is \"1138075747\"\n",
    "-  paste it like me"
   ]
  },
  {
   "cell_type": "code",
   "execution_count": 58,
   "metadata": {},
   "outputs": [
    {
     "name": "stderr",
     "output_type": "stream",
     "text": [
      "2024-12-04 16:51:12,415 [INFO] Base - Initialised: AppStore('us', 'password-manager-myvault', 1138075747)\n",
      "2024-12-04 16:51:12,415 [INFO] Base - Ready to fetch reviews from: https://apps.apple.com/us/app/password-manager-myvault/id1138075747\n",
      "2024-12-04 16:51:12,934 [INFO] Base - [id:1138075747] Fetched 4 reviews (4 fetched in total)\n"
     ]
    }
   ],
   "source": [
    "a_reviews = AppStore('us', 'password-manager-myvault', '1138075747')\n",
    "a_reviews.review()"
   ]
  },
  {
   "cell_type": "markdown",
   "metadata": {},
   "source": [
    "- Create an AppStore instance for the app with ID 'password-manager-myvault' and Apple ID '1138075747' (for the U.S. App Store).\n",
    "- Fetch the reviews for the app using the review() method."
   ]
  },
  {
   "cell_type": "code",
   "execution_count": 59,
   "metadata": {},
   "outputs": [],
   "source": [
    "g_df = pd.DataFrame(np.array(g_reviews),columns=['review'])"
   ]
  },
  {
   "cell_type": "markdown",
   "metadata": {},
   "source": [
    "- Convert the list of Google reviews (g_reviews) into a pandas DataFrame with a single column labeled 'review'."
   ]
  },
  {
   "cell_type": "code",
   "execution_count": 60,
   "metadata": {},
   "outputs": [],
   "source": [
    "g_df2 = g_df.join(pd.DataFrame(g_df.pop('review').tolist()))"
   ]
  },
  {
   "cell_type": "markdown",
   "metadata": {},
   "source": [
    "- Extract the review column, which contains nested dictionaries, and convert them into separate columns in g_df2."
   ]
  },
  {
   "cell_type": "code",
   "execution_count": 61,
   "metadata": {},
   "outputs": [],
   "source": [
    "g_df2.drop(columns={'userImage', 'reviewCreatedVersion'}, inplace=True)\n"
   ]
  },
  {
   "cell_type": "markdown",
   "metadata": {},
   "source": [
    "- Drop unnecessary columns ('userImage' and 'reviewCreatedVersion') from g_df2."
   ]
  },
  {
   "cell_type": "code",
   "execution_count": 62,
   "metadata": {},
   "outputs": [],
   "source": [
    "g_df2.rename(columns={'score': 'rating', 'userName': 'user_name', 'reviewId': 'review_id', 'content': 'review_description', 'at': 'review_date', 'replyContent': 'developer_response', 'repliedAt': 'developer_response_date', 'thumbsUpCount': 'thumbs_up'}, inplace=True)\n"
   ]
  },
  {
   "cell_type": "markdown",
   "metadata": {},
   "source": [
    "- Rename columns to more user-friendly names, like changing 'score' to 'rating' and 'reviewId' to 'review_id'."
   ]
  },
  {
   "cell_type": "code",
   "execution_count": 63,
   "metadata": {},
   "outputs": [],
   "source": [
    "g_df2.insert(loc=0, column='source', value='Google Play')\n"
   ]
  },
  {
   "cell_type": "markdown",
   "metadata": {},
   "source": [
    "- Insert a new column 'source' at position 0 with the value 'Google Play'."
   ]
  },
  {
   "cell_type": "code",
   "execution_count": 64,
   "metadata": {},
   "outputs": [],
   "source": [
    "g_df2.insert(loc=3, column='review_title', value=None)\n"
   ]
  },
  {
   "cell_type": "markdown",
   "metadata": {},
   "source": [
    "Insert a new column 'review_title' at position 3 with a None value."
   ]
  },
  {
   "cell_type": "code",
   "execution_count": 65,
   "metadata": {},
   "outputs": [],
   "source": [
    "g_df2['laguage_code'] = 'en'"
   ]
  },
  {
   "cell_type": "markdown",
   "metadata": {},
   "source": [
    "- Add a new column 'laguage_code' and set its value to 'en' (for English)."
   ]
  },
  {
   "cell_type": "code",
   "execution_count": 66,
   "metadata": {},
   "outputs": [],
   "source": [
    "g_df2['country_code'] = 'us'\n"
   ]
  },
  {
   "cell_type": "markdown",
   "metadata": {},
   "source": [
    "Add a new column 'country_code' and set its value to 'us' (for the United States).\n",
    "python\n",
    "Copy code\n"
   ]
  },
  {
   "cell_type": "code",
   "execution_count": 67,
   "metadata": {},
   "outputs": [],
   "source": [
    "a_df = pd.DataFrame(np.array(a_reviews.reviews), columns=['review'])\n"
   ]
  },
  {
   "cell_type": "markdown",
   "metadata": {},
   "source": [
    "- Convert the list of Apple reviews (a_reviews.reviews) into a pandas DataFrame with a single column labeled 'review'."
   ]
  },
  {
   "cell_type": "code",
   "execution_count": 68,
   "metadata": {},
   "outputs": [],
   "source": [
    "a_df2 = a_df.join(pd.DataFrame(a_df.pop('review').tolist()))\n"
   ]
  },
  {
   "cell_type": "markdown",
   "metadata": {},
   "source": [
    "- Extract the review column (which contains nested dictionaries) and convert them into separate columns in a_df2."
   ]
  },
  {
   "cell_type": "code",
   "execution_count": 69,
   "metadata": {},
   "outputs": [],
   "source": [
    "a_df2.drop(columns={'isEdited'}, inplace=True)\n"
   ]
  },
  {
   "cell_type": "markdown",
   "metadata": {},
   "source": [
    "- Drop the 'isEdited' column from a_df2."
   ]
  },
  {
   "cell_type": "code",
   "execution_count": 70,
   "metadata": {},
   "outputs": [],
   "source": [
    "a_df2.insert(loc=0, column='source', value='App Store')"
   ]
  },
  {
   "cell_type": "markdown",
   "metadata": {},
   "source": [
    "- Insert a new column 'source' at position 0 with the value 'App Store'."
   ]
  },
  {
   "cell_type": "code",
   "execution_count": 71,
   "metadata": {},
   "outputs": [],
   "source": [
    "a_df2['developer_response_date'] = None"
   ]
  },
  {
   "cell_type": "markdown",
   "metadata": {},
   "source": [
    "- Add a new column 'developer_response_date' with a None value."
   ]
  },
  {
   "cell_type": "code",
   "execution_count": 72,
   "metadata": {},
   "outputs": [],
   "source": [
    "a_df2['thumbs_up'] = None\n"
   ]
  },
  {
   "cell_type": "markdown",
   "metadata": {},
   "source": [
    "- Add a new column 'thumbs_up' with a None value."
   ]
  },
  {
   "cell_type": "code",
   "execution_count": 73,
   "metadata": {},
   "outputs": [],
   "source": [
    "a_df2['laguage_code'] = 'en'"
   ]
  },
  {
   "cell_type": "markdown",
   "metadata": {},
   "source": [
    "- Add a new column 'laguage_code' and set its value to 'en'."
   ]
  },
  {
   "cell_type": "code",
   "execution_count": 74,
   "metadata": {},
   "outputs": [],
   "source": [
    "a_df2['country_code'] = 'us'"
   ]
  },
  {
   "cell_type": "markdown",
   "metadata": {},
   "source": [
    "- Add a new column 'country_code' and set its value to 'us'."
   ]
  },
  {
   "cell_type": "code",
   "execution_count": 75,
   "metadata": {},
   "outputs": [],
   "source": [
    "a_df2.insert(loc=1, column='review_id', value=[uuid.uuid4() for _ in range(len(a_df2.index))])\n"
   ]
  },
  {
   "cell_type": "markdown",
   "metadata": {},
   "source": [
    "- Insert a new column 'review_id' at position 1, generating a unique UUID for each review."
   ]
  },
  {
   "cell_type": "code",
   "execution_count": 76,
   "metadata": {},
   "outputs": [],
   "source": [
    "a_df2.rename(columns={'review': 'review_description', 'userName': 'user_name', 'date': 'review_date', 'title': 'review_title', 'developerResponse': 'developer_response'}, inplace=True)\n"
   ]
  },
  {
   "cell_type": "markdown",
   "metadata": {},
   "source": [
    "- Rename the columns to more user-friendly names like changing 'review' to 'review_description' and 'userName' to 'user_name'."
   ]
  },
  {
   "cell_type": "code",
   "execution_count": 77,
   "metadata": {},
   "outputs": [],
   "source": [
    "a_df2 = a_df2.where(pd.notnull(a_df2), None)"
   ]
  },
  {
   "cell_type": "markdown",
   "metadata": {},
   "source": [
    "- Replace all NaN values in a_df2 with None."
   ]
  },
  {
   "cell_type": "code",
   "execution_count": 78,
   "metadata": {},
   "outputs": [
    {
     "name": "stderr",
     "output_type": "stream",
     "text": [
      "C:\\Users\\Raja Asher\\AppData\\Local\\Temp\\ipykernel_14760\\4253568250.py:1: FutureWarning: The behavior of DataFrame concatenation with empty or all-NA entries is deprecated. In a future version, this will no longer exclude empty or all-NA columns when determining the result dtypes. To retain the old behavior, exclude the relevant entries before the concat operation.\n",
      "  result = pd.concat([g_df2, a_df2])\n"
     ]
    }
   ],
   "source": [
    "result = pd.concat([g_df2, a_df2])\n"
   ]
  },
  {
   "cell_type": "markdown",
   "metadata": {},
   "source": [
    "- Concatenate the Google Play reviews (g_df2) and Apple App Store reviews (a_df2) into a single DataFrame result."
   ]
  },
  {
   "cell_type": "code",
   "execution_count": 79,
   "metadata": {},
   "outputs": [
    {
     "data": {
      "text/html": [
       "<div>\n",
       "<style scoped>\n",
       "    .dataframe tbody tr th:only-of-type {\n",
       "        vertical-align: middle;\n",
       "    }\n",
       "\n",
       "    .dataframe tbody tr th {\n",
       "        vertical-align: top;\n",
       "    }\n",
       "\n",
       "    .dataframe thead th {\n",
       "        text-align: right;\n",
       "    }\n",
       "</style>\n",
       "<table border=\"1\" class=\"dataframe\">\n",
       "  <thead>\n",
       "    <tr style=\"text-align: right;\">\n",
       "      <th></th>\n",
       "      <th>source</th>\n",
       "      <th>review_id</th>\n",
       "      <th>user_name</th>\n",
       "      <th>review_title</th>\n",
       "      <th>review_description</th>\n",
       "      <th>rating</th>\n",
       "      <th>thumbs_up</th>\n",
       "      <th>review_date</th>\n",
       "      <th>developer_response</th>\n",
       "      <th>developer_response_date</th>\n",
       "      <th>appVersion</th>\n",
       "      <th>laguage_code</th>\n",
       "      <th>country_code</th>\n",
       "    </tr>\n",
       "  </thead>\n",
       "  <tbody>\n",
       "    <tr>\n",
       "      <th>0</th>\n",
       "      <td>Google Play</td>\n",
       "      <td>2a3756d6-43dc-409b-aad9-9400886fcba7</td>\n",
       "      <td>Nerys Powell</td>\n",
       "      <td>None</td>\n",
       "      <td>Nice to have my passwords all in one place. No...</td>\n",
       "      <td>5</td>\n",
       "      <td>7</td>\n",
       "      <td>2024-11-25 00:39:06</td>\n",
       "      <td>None</td>\n",
       "      <td>NaT</td>\n",
       "      <td>24.09.16000</td>\n",
       "      <td>en</td>\n",
       "      <td>us</td>\n",
       "    </tr>\n",
       "    <tr>\n",
       "      <th>1</th>\n",
       "      <td>Google Play</td>\n",
       "      <td>feac3b38-589b-4f0c-8931-af8e928cf0b0</td>\n",
       "      <td>Marion Birchley</td>\n",
       "      <td>None</td>\n",
       "      <td>Easy to use</td>\n",
       "      <td>5</td>\n",
       "      <td>0</td>\n",
       "      <td>2024-09-17 12:17:59</td>\n",
       "      <td>Thank you for your support</td>\n",
       "      <td>2024-09-18 11:20:41</td>\n",
       "      <td>23.12.04000</td>\n",
       "      <td>en</td>\n",
       "      <td>us</td>\n",
       "    </tr>\n",
       "    <tr>\n",
       "      <th>2</th>\n",
       "      <td>Google Play</td>\n",
       "      <td>81942ead-9d65-4b1a-8aa2-6e21ad5cf5e7</td>\n",
       "      <td>Vernalee Fortin</td>\n",
       "      <td>None</td>\n",
       "      <td>Still loving it!, the best!</td>\n",
       "      <td>5</td>\n",
       "      <td>0</td>\n",
       "      <td>2024-09-03 00:23:40</td>\n",
       "      <td>None</td>\n",
       "      <td>NaT</td>\n",
       "      <td>23.12.04000</td>\n",
       "      <td>en</td>\n",
       "      <td>us</td>\n",
       "    </tr>\n",
       "    <tr>\n",
       "      <th>3</th>\n",
       "      <td>Google Play</td>\n",
       "      <td>c08cf1e7-45e4-43a3-b86f-51f7809b80a3</td>\n",
       "      <td>Toki Doki</td>\n",
       "      <td>None</td>\n",
       "      <td>Convenient one stop app for all your passwords...</td>\n",
       "      <td>5</td>\n",
       "      <td>0</td>\n",
       "      <td>2024-08-19 03:32:22</td>\n",
       "      <td>None</td>\n",
       "      <td>NaT</td>\n",
       "      <td>23.12.04000</td>\n",
       "      <td>en</td>\n",
       "      <td>us</td>\n",
       "    </tr>\n",
       "    <tr>\n",
       "      <th>4</th>\n",
       "      <td>Google Play</td>\n",
       "      <td>c8937763-e1b4-43b1-9e48-cde58be80111</td>\n",
       "      <td>CJ Cross</td>\n",
       "      <td>None</td>\n",
       "      <td>Tried several password managers until I came a...</td>\n",
       "      <td>5</td>\n",
       "      <td>0</td>\n",
       "      <td>2024-07-30 08:07:47</td>\n",
       "      <td>None</td>\n",
       "      <td>NaT</td>\n",
       "      <td>23.12.04000</td>\n",
       "      <td>en</td>\n",
       "      <td>us</td>\n",
       "    </tr>\n",
       "    <tr>\n",
       "      <th>...</th>\n",
       "      <td>...</td>\n",
       "      <td>...</td>\n",
       "      <td>...</td>\n",
       "      <td>...</td>\n",
       "      <td>...</td>\n",
       "      <td>...</td>\n",
       "      <td>...</td>\n",
       "      <td>...</td>\n",
       "      <td>...</td>\n",
       "      <td>...</td>\n",
       "      <td>...</td>\n",
       "      <td>...</td>\n",
       "      <td>...</td>\n",
       "    </tr>\n",
       "    <tr>\n",
       "      <th>161</th>\n",
       "      <td>Google Play</td>\n",
       "      <td>b454b56c-6171-49bb-a04b-b878095b83e2</td>\n",
       "      <td>A Google user</td>\n",
       "      <td>None</td>\n",
       "      <td>Awesome</td>\n",
       "      <td>5</td>\n",
       "      <td>1</td>\n",
       "      <td>2016-08-31 06:53:05</td>\n",
       "      <td>None</td>\n",
       "      <td>NaT</td>\n",
       "      <td>None</td>\n",
       "      <td>en</td>\n",
       "      <td>us</td>\n",
       "    </tr>\n",
       "    <tr>\n",
       "      <th>0</th>\n",
       "      <td>App Store</td>\n",
       "      <td>083f0bd0-41d4-4c03-bd31-67233d0992b5</td>\n",
       "      <td>Winky2005</td>\n",
       "      <td>Attractive App</td>\n",
       "      <td>Am just beginning to use this after having Tru...</td>\n",
       "      <td>5</td>\n",
       "      <td>None</td>\n",
       "      <td>2016-12-21 02:06:24</td>\n",
       "      <td>None</td>\n",
       "      <td>NaT</td>\n",
       "      <td>NaN</td>\n",
       "      <td>en</td>\n",
       "      <td>us</td>\n",
       "    </tr>\n",
       "    <tr>\n",
       "      <th>1</th>\n",
       "      <td>App Store</td>\n",
       "      <td>fcddb2c8-4045-4d3c-a1a4-5bdd96966180</td>\n",
       "      <td>Jimjamscotty</td>\n",
       "      <td>Great!!!</td>\n",
       "      <td>It’s very simple to understand and use. I just...</td>\n",
       "      <td>5</td>\n",
       "      <td>None</td>\n",
       "      <td>2020-09-18 01:35:10</td>\n",
       "      <td>None</td>\n",
       "      <td>NaT</td>\n",
       "      <td>NaN</td>\n",
       "      <td>en</td>\n",
       "      <td>us</td>\n",
       "    </tr>\n",
       "    <tr>\n",
       "      <th>2</th>\n",
       "      <td>App Store</td>\n",
       "      <td>4975c0f6-dba9-4319-8ef0-aaae32259c49</td>\n",
       "      <td>Opihi18</td>\n",
       "      <td>Basic functions okay</td>\n",
       "      <td>Backup and restore does not seem to work at al...</td>\n",
       "      <td>2</td>\n",
       "      <td>None</td>\n",
       "      <td>2021-10-31 02:09:44</td>\n",
       "      <td>{'id': 42630524, 'body': 'A new version is ava...</td>\n",
       "      <td>NaT</td>\n",
       "      <td>NaN</td>\n",
       "      <td>en</td>\n",
       "      <td>us</td>\n",
       "    </tr>\n",
       "    <tr>\n",
       "      <th>3</th>\n",
       "      <td>App Store</td>\n",
       "      <td>80ac06a7-c6d1-4f4b-9bb7-f31cd905d5ef</td>\n",
       "      <td>sevenbloodyrabbits</td>\n",
       "      <td>Gateway to service fraud</td>\n",
       "      <td>I clicked the yellow bar which asked me to set...</td>\n",
       "      <td>1</td>\n",
       "      <td>None</td>\n",
       "      <td>2023-02-06 21:47:05</td>\n",
       "      <td>None</td>\n",
       "      <td>NaT</td>\n",
       "      <td>NaN</td>\n",
       "      <td>en</td>\n",
       "      <td>us</td>\n",
       "    </tr>\n",
       "  </tbody>\n",
       "</table>\n",
       "<p>166 rows × 13 columns</p>\n",
       "</div>"
      ],
      "text/plain": [
       "          source                             review_id           user_name  \\\n",
       "0    Google Play  2a3756d6-43dc-409b-aad9-9400886fcba7        Nerys Powell   \n",
       "1    Google Play  feac3b38-589b-4f0c-8931-af8e928cf0b0     Marion Birchley   \n",
       "2    Google Play  81942ead-9d65-4b1a-8aa2-6e21ad5cf5e7     Vernalee Fortin   \n",
       "3    Google Play  c08cf1e7-45e4-43a3-b86f-51f7809b80a3           Toki Doki   \n",
       "4    Google Play  c8937763-e1b4-43b1-9e48-cde58be80111            CJ Cross   \n",
       "..           ...                                   ...                 ...   \n",
       "161  Google Play  b454b56c-6171-49bb-a04b-b878095b83e2       A Google user   \n",
       "0      App Store  083f0bd0-41d4-4c03-bd31-67233d0992b5           Winky2005   \n",
       "1      App Store  fcddb2c8-4045-4d3c-a1a4-5bdd96966180        Jimjamscotty   \n",
       "2      App Store  4975c0f6-dba9-4319-8ef0-aaae32259c49             Opihi18   \n",
       "3      App Store  80ac06a7-c6d1-4f4b-9bb7-f31cd905d5ef  sevenbloodyrabbits   \n",
       "\n",
       "                 review_title  \\\n",
       "0                        None   \n",
       "1                        None   \n",
       "2                        None   \n",
       "3                        None   \n",
       "4                        None   \n",
       "..                        ...   \n",
       "161                      None   \n",
       "0              Attractive App   \n",
       "1                    Great!!!   \n",
       "2        Basic functions okay   \n",
       "3    Gateway to service fraud   \n",
       "\n",
       "                                    review_description  rating thumbs_up  \\\n",
       "0    Nice to have my passwords all in one place. No...       5         7   \n",
       "1                                          Easy to use       5         0   \n",
       "2                          Still loving it!, the best!       5         0   \n",
       "3    Convenient one stop app for all your passwords...       5         0   \n",
       "4    Tried several password managers until I came a...       5         0   \n",
       "..                                                 ...     ...       ...   \n",
       "161                                            Awesome       5         1   \n",
       "0    Am just beginning to use this after having Tru...       5      None   \n",
       "1    It’s very simple to understand and use. I just...       5      None   \n",
       "2    Backup and restore does not seem to work at al...       2      None   \n",
       "3    I clicked the yellow bar which asked me to set...       1      None   \n",
       "\n",
       "            review_date                                 developer_response  \\\n",
       "0   2024-11-25 00:39:06                                               None   \n",
       "1   2024-09-17 12:17:59                         Thank you for your support   \n",
       "2   2024-09-03 00:23:40                                               None   \n",
       "3   2024-08-19 03:32:22                                               None   \n",
       "4   2024-07-30 08:07:47                                               None   \n",
       "..                  ...                                                ...   \n",
       "161 2016-08-31 06:53:05                                               None   \n",
       "0   2016-12-21 02:06:24                                               None   \n",
       "1   2020-09-18 01:35:10                                               None   \n",
       "2   2021-10-31 02:09:44  {'id': 42630524, 'body': 'A new version is ava...   \n",
       "3   2023-02-06 21:47:05                                               None   \n",
       "\n",
       "    developer_response_date   appVersion laguage_code country_code  \n",
       "0                       NaT  24.09.16000           en           us  \n",
       "1       2024-09-18 11:20:41  23.12.04000           en           us  \n",
       "2                       NaT  23.12.04000           en           us  \n",
       "3                       NaT  23.12.04000           en           us  \n",
       "4                       NaT  23.12.04000           en           us  \n",
       "..                      ...          ...          ...          ...  \n",
       "161                     NaT         None           en           us  \n",
       "0                       NaT          NaN           en           us  \n",
       "1                       NaT          NaN           en           us  \n",
       "2                       NaT          NaN           en           us  \n",
       "3                       NaT          NaN           en           us  \n",
       "\n",
       "[166 rows x 13 columns]"
      ]
     },
     "execution_count": 79,
     "metadata": {},
     "output_type": "execute_result"
    }
   ],
   "source": [
    "result\n"
   ]
  },
  {
   "cell_type": "markdown",
   "metadata": {},
   "source": [
    "- Output the final concatenated DataFrame with all reviews from both Google Play and the App Store"
   ]
  }
 ],
 "metadata": {
  "kernelspec": {
   "display_name": "scraping_env",
   "language": "python",
   "name": "python3"
  },
  "language_info": {
   "codemirror_mode": {
    "name": "ipython",
    "version": 3
   },
   "file_extension": ".py",
   "mimetype": "text/x-python",
   "name": "python",
   "nbconvert_exporter": "python",
   "pygments_lexer": "ipython3",
   "version": "3.13.0"
  }
 },
 "nbformat": 4,
 "nbformat_minor": 2
}
